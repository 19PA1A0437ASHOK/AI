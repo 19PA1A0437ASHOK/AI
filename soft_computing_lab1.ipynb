{
  "nbformat": 4,
  "nbformat_minor": 0,
  "metadata": {
    "colab": {
      "provenance": [],
      "toc_visible": true,
      "authorship_tag": "ABX9TyNSH4sr20jQuCuWlLhZCiKD",
      "include_colab_link": true
    },
    "kernelspec": {
      "name": "python3",
      "display_name": "Python 3"
    },
    "language_info": {
      "name": "python"
    }
  },
  "cells": [
    {
      "cell_type": "markdown",
      "metadata": {
        "id": "view-in-github",
        "colab_type": "text"
      },
      "source": [
        "<a href=\"https://colab.research.google.com/github/19PA1A0437ASHOK/AI/blob/master/soft_computing_lab1.ipynb\" target=\"_parent\"><img src=\"https://colab.research.google.com/assets/colab-badge.svg\" alt=\"Open In Colab\"/></a>"
      ]
    },
    {
      "cell_type": "code",
      "execution_count": null,
      "metadata": {
        "colab": {
          "base_uri": "https://localhost:8080/"
        },
        "id": "2l0_xqG22mpD",
        "outputId": "c69a0866-d5f7-442d-b249-372c8ab8dccf"
      },
      "outputs": [
        {
          "output_type": "stream",
          "name": "stdout",
          "text": [
            "[1.245e+01 1.570e+01 8.257e+01 4.771e+02 1.278e-01 1.700e-01 1.578e-01\n",
            " 8.089e-02 2.087e-01 7.613e-02 3.345e-01 8.902e-01 2.217e+00 2.719e+01\n",
            " 7.510e-03 3.345e-02 3.672e-02 1.137e-02 2.165e-02 5.082e-03 1.547e+01\n",
            " 2.375e+01 1.034e+02 7.416e+02 1.791e-01 5.249e-01 5.355e-01 1.741e-01\n",
            " 3.985e-01 1.244e-01]\n"
          ]
        }
      ],
      "source": [
        "from sklearn import datasets\n",
        "cancer_data=datasets.load_breast_cancer()\n",
        "print(cancer_data.data[5])\n"
      ]
    },
    {
      "cell_type": "code",
      "source": [
        "from sklearn.model_selection import train_test_split\n",
        "cancer_data = datasets.load_breast_cancer()\n",
        "X_train, X_test, y_train, y_test = train_test_split(cancer_data.data, cancer_data.target,test_size=0.4,random_state=109)"
      ],
      "metadata": {
        "id": "-GLPqyZW3jRl"
      },
      "execution_count": null,
      "outputs": []
    },
    {
      "cell_type": "code",
      "source": [
        "from sklearn import svm\n",
        "#create a classifier\n",
        "cls = svm.SVC(kernel=\"linear\")\n",
        "#train the model\n",
        "cls.fit(X_train,y_train)\n",
        "#predict the response\n",
        "pred = cls.predict(X_test)\n",
        "\n",
        "from sklearn import metrics\n",
        "\n",
        "\n",
        "#accuracy\n",
        "print(\"acuracy:\", metrics.accuracy_score(y_test,y_pred=pred))\n",
        "#precision score\n",
        "print(\"precision:\", metrics.precision_score(y_test,y_pred=pred))\n",
        "#recall score\n",
        "print(\"recall\" , metrics.recall_score(y_test,y_pred=pred))\n",
        "print(metrics.classification_report(y_test, y_pred=pred))"
      ],
      "metadata": {
        "colab": {
          "base_uri": "https://localhost:8080/"
        },
        "id": "h-TyKoSA4SDq",
        "outputId": "08f393f5-3f73-4b70-fea6-9b724e374939"
      },
      "execution_count": null,
      "outputs": [
        {
          "output_type": "stream",
          "name": "stdout",
          "text": [
            "acuracy: 0.9649122807017544\n",
            "precision: 0.9642857142857143\n",
            "recall 0.9782608695652174\n",
            "              precision    recall  f1-score   support\n",
            "\n",
            "           0       0.97      0.94      0.96        90\n",
            "           1       0.96      0.98      0.97       138\n",
            "\n",
            "    accuracy                           0.96       228\n",
            "   macro avg       0.97      0.96      0.96       228\n",
            "weighted avg       0.96      0.96      0.96       228\n",
            "\n"
          ]
        }
      ]
    },
    {
      "cell_type": "code",
      "source": [
        "import matplotlib.pyplot as plt\n",
        "from sklearn import datasets\n",
        "from sklearn import svm\n",
        "#loading the dataset\n",
        "letters = datasets.load_digits()\n",
        "#generating the classifier\n",
        "clf = svm.SVC(gamma=0.001, C=100)\n",
        "#training the classifier\n",
        "X,y = letters.data[:-10], letters.target[:-10]\n",
        "clf.fit(X,y)\n",
        "#predicting the output\n",
        "print(clf.predict(letters.data[:-10]))\n",
        "plt.imshow(letters.images[6], interpolation='nearest')\n",
        "plt.show()"
      ],
      "metadata": {
        "colab": {
          "base_uri": "https://localhost:8080/",
          "height": 282
        },
        "id": "eWwfR94I6Yq5",
        "outputId": "67e32525-099b-4ac8-9fa4-b78373843907"
      },
      "execution_count": null,
      "outputs": [
        {
          "output_type": "stream",
          "name": "stdout",
          "text": [
            "[0 1 2 ... 5 7 9]\n"
          ]
        },
        {
          "output_type": "display_data",
          "data": {
            "text/plain": [
              "<Figure size 432x288 with 1 Axes>"
            ],
            "image/png": "[encoded data removed]"
          },
          "metadata": {
            "needs_background": "light"
          }
        }
      ]
    }
  ]
}